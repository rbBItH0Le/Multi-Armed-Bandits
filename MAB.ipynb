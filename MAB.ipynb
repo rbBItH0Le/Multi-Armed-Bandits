{
 "cells": [
  {
   "cell_type": "code",
   "execution_count": 1,
   "metadata": {},
   "outputs": [],
   "source": [
    "import pandas as pd\n",
    "import numpy as np\n",
    "import matplotlib.pyplot as plt\n",
    "from collections import Counter\n",
    "from scipy.special import expit\n",
    "import seaborn as sns"
   ]
  },
  {
   "cell_type": "code",
   "execution_count": 2,
   "metadata": {},
   "outputs": [],
   "source": [
    "from sklearn.preprocessing import StandardScaler,MinMaxScaler\n",
    "from sklearn.metrics import classification_report,make_scorer,f1_score,confusion_matrix\n",
    "from sklearn.model_selection import GridSearchCV\n",
    "from sklearn.model_selection import train_test_split\n",
    "ss=StandardScaler()"
   ]
  },
  {
   "cell_type": "code",
   "execution_count": 3,
   "metadata": {},
   "outputs": [],
   "source": [
    "from sklearn.svm import OneClassSVM\n",
    "from sklearn.ensemble import IsolationForest\n",
    "from sklearn.neighbors import LocalOutlierFactor\n",
    "from sklearn.covariance import EllipticEnvelope\n",
    "import random"
   ]
  },
  {
   "cell_type": "code",
   "execution_count": 4,
   "metadata": {},
   "outputs": [],
   "source": [
    "import warnings\n",
    "warnings.filterwarnings('ignore')"
   ]
  },
  {
   "cell_type": "code",
   "execution_count": 5,
   "metadata": {},
   "outputs": [],
   "source": [
    "from sklearn.preprocessing import LabelEncoder\n",
    "from sklearn.model_selection import GridSearchCV\n",
    "le=LabelEncoder()"
   ]
  },
  {
   "cell_type": "code",
   "execution_count": 6,
   "metadata": {},
   "outputs": [],
   "source": [
    "class TrainAuto:\n",
    "    def __init__(self, dataset):\n",
    "        \n",
    "        #preprocessing step- setting up scaling for datasets which need them\n",
    "        \n",
    "        self.data=dataset\n",
    "        self.scale=False\n",
    "        \n",
    "    def Traindata(self):\n",
    "        column_titles=['Target']\n",
    "        dft=pd.read_csv(self.data)\n",
    "        \n",
    "        #preprocessing step- changing the labels and deleting unwanted columns\n",
    "        \n",
    "        if ('Label' in dft.columns):\n",
    "            dft['Label']=le.fit_transform(dft['Label'])\n",
    "            dft.loc[dft['Label'] == 1, \"Target\"] = -1\n",
    "            dft.loc[dft['Label'] == 0, \"Target\"] = 1\n",
    "            dft.drop(['Label'],inplace=True,axis=1)\n",
    "            column_titles.extend([x for x in dft.columns if x!='Target'])\n",
    "            dft=dft.reindex(columns=column_titles)\n",
    "        elif ('Class' in dft.columns):\n",
    "            self.scale=False\n",
    "            dft.loc[dft['Class'] == 1, \"Target\"] = -1\n",
    "            dft.loc[dft['Class'] == 0, \"Target\"] = 1\n",
    "            dft.drop(['Class','Time'],inplace=True,axis=1)\n",
    "            column_titles.extend([x for x in dft.columns if x!='Target'])\n",
    "            dft=dft.reindex(columns=column_titles)\n",
    "        else:\n",
    "            self.scale=True\n",
    "            dft.dropna(axis=0,inplace=True)\n",
    "            dft.reset_index(drop=True)\n",
    "            let=LabelEncoder()\n",
    "            dft['type']=let.fit_transform(dft['type'])\n",
    "            dft.loc[dft['quality'].isin([3,4,5,6,7]),\"Target\"] = 1\n",
    "            dft.loc[dft['quality'].isin([8,9]),\"Target\"] = -1\n",
    "            dft.drop(['quality'],inplace=True,axis=1)\n",
    "            column_titles.extend([x for x in dft.columns if x!='Target'])\n",
    "            dft=dft.reindex(columns=column_titles)\n",
    "            \n",
    "        #using train-test split to create an appropriate split\n",
    "        \n",
    "        final_inliers = dft[dft['Target']==1]\n",
    "        final_inliers_train, final_inliers_test = train_test_split(final_inliers, test_size=0.20, random_state=42)\n",
    "        final_outlier = dft[dft['Target']==-1]\n",
    "        len_outliers=final_outlier[:25]\n",
    "        len_inliers=final_inliers_test[:18]\n",
    "        \n",
    "        #setting up validation set for hyper-parameter tuning\n",
    "        \n",
    "        if self.scale==False:\n",
    "            final_val_set=pd.concat([len_outliers,len_inliers])\n",
    "        else:\n",
    "            final_val_set=pd.concat([len_outliers,len_inliers])\n",
    "            final_val_set=pd.DataFrame(ss.fit_transform(final_val_set))\n",
    "        if self.scale==False:\n",
    "            final_train_scale=final_inliers_train.iloc[:,1:]\n",
    "        else:\n",
    "            final_train_scale=final_inliers_train.iloc[:,1:]\n",
    "            final_train_scale=pd.DataFrame(ss.fit_transform(final_train_scale))\n",
    "        final_test_scale=final_inliers_test.iloc[18:,1:]\n",
    "        finoutlier_scale=final_outlier.iloc[25:,1:]\n",
    "        yfin_test_in = final_inliers_test['Target'].iloc[18:]\n",
    "        yfin_test_out = final_outlier['Target'].iloc[25:]\n",
    "        y_fin_testval = pd.concat([yfin_test_in, yfin_test_out])\n",
    "        y_fin_testval = np.array(y_fin_testval)\n",
    "        if self.scale==False:\n",
    "            df_fin_testval = pd.concat([final_test_scale,finoutlier_scale])\n",
    "        else:\n",
    "            df_fin_testval = pd.concat([final_test_scale,finoutlier_scale])\n",
    "            df_fin_testval = pd.DataFrame(ss.fit_transform(df_fin_testval))  \n",
    "        \n",
    "        #returning the train, test and validation sets\n",
    "        \n",
    "        return final_train_scale,df_fin_testval,final_val_set,y_fin_testval\n",
    "    \n",
    "    def TuneData(self,val_set,train_set,df_test,y_test):\n",
    "        \n",
    "        #setting up parameters for OneClassSVM\n",
    "        \n",
    "        ocsvm_params = {'gamma' : ['scale','auto'], 'nu': [0.001,0.01,0.2,1], 'kernel':['poly','rbf','sigmoid','linear'],'degree':[3,5,8,10,12]}\n",
    "        clf_ocsvm = GridSearchCV(OneClassSVM(), ocsvm_params, cv = 30, scoring='f1_micro')\n",
    "        clf_ocsvm.fit(val_set.iloc[:,1:],val_set.iloc[:,0])\n",
    "        model_fin=OneClassSVM(gamma=clf_ocsvm.best_params_['gamma'], nu=clf_ocsvm.best_params_['nu'],kernel=clf_ocsvm.best_params_['kernel'],degree=clf_ocsvm.best_params_['degree'])\n",
    "        \n",
    "        #Training model on the best parameters obtained\n",
    "        model_fin.fit(train_set)\n",
    "        \n",
    "        #Setting up parameters for Isolation Forest\n",
    "        isofor_params={'contamination' : [0.0017304750013189597,0.19055313859,0.19590178], 'n_estimators': [300], 'max_features':[5,6]}\n",
    "        clf_isofor = GridSearchCV(IsolationForest(), isofor_params, cv = 30, scoring='f1_micro')\n",
    "        clf_isofor.fit(val_set.iloc[:,1:],val_set.iloc[:,0])\n",
    "        model_iso=IsolationForest(contamination=clf_isofor.best_params_['contamination'], n_estimators=clf_isofor.best_params_['n_estimators'],max_features=clf_isofor.best_params_['max_features'])\n",
    "        \n",
    "        #training model on the best parameters obtained\n",
    "        model_iso.fit(train_set)\n",
    "        \n",
    "        #parameter dictionary for Elliptic Envelope\n",
    "        \n",
    "        ee_params={'contamination' : [0.2, 0.3, 0.19055313859,0.0017304750013189597], 'assume_centered': [True,False], 'support_fraction':[None,0.6,0.9]}\n",
    "        clf_ee = GridSearchCV(EllipticEnvelope(), ee_params, cv = 30, scoring='f1_micro')\n",
    "        clf_ee.fit(val_set.iloc[:,1:],val_set.iloc[:,0])\n",
    "        model_ee=EllipticEnvelope(contamination=clf_ee.best_params_['contamination'], assume_centered=clf_ee.best_params_['assume_centered'],support_fraction=clf_ee.best_params_['support_fraction'])\n",
    "        \n",
    "        #training the elliptic envelope model on the best parameters\n",
    "        \n",
    "        model_ee.fit(train_set)\n",
    "        \n",
    "        #parameter dictionary for Local Outlier Factor\n",
    "        lof_params={'contamination' : ['auto',0.0017304750013189597,0.3], 'n_neighbors': [14,30]}  \n",
    "        clf_lof = GridSearchCV(LocalOutlierFactor(), lof_params, cv = 30, scoring='f1_micro')\n",
    "        clf_lof.fit(val_set.iloc[:,1:],val_set.iloc[:,0])\n",
    "        model_lof=LocalOutlierFactor(contamination=clf_lof.best_params_['contamination'],n_neighbors=clf_lof.best_params_['n_neighbors'],novelty=True)\n",
    "        \n",
    "        #training the Local Outlier Factor model on the best parameters obtained\n",
    "        model_lof.fit(train_set)\n",
    "        \n",
    "        #returning the trained models in a list\n",
    "        \n",
    "        return [model_fin,model_iso,model_ee,model_lof]\n",
    "    \n",
    "    \n",
    "    #Exp3 algorithm\n",
    "    def exp3_base(self,X_test,y_test,model_list):\n",
    "        \n",
    "        #setting up learning rate\n",
    "        lr = -(np.sqrt(np.log(2) / (2000 * 2)))\n",
    "        \n",
    "        #Setting up psuedo loss\n",
    "        losses = [[0,0,0,0]]\n",
    "        todf=[]\n",
    "        y_test=pd.DataFrame(y_test)\n",
    "        y_test.set_index(X_test.index,inplace=True)\n",
    "        dftest=pd.concat([df_test, y_test], axis=1)\n",
    "        \n",
    "        #to collect the predicted values\n",
    "        pred=[]\n",
    "        \n",
    "        #to collect the actual values\n",
    "        act=[]\n",
    "        for t in range(1,100000):\n",
    "            \n",
    "            #list to maintain probability distribution for the current time-step\n",
    "            cur_distribution = []\n",
    "            \n",
    "            #list to maintain the loss vector of the current time-step\n",
    "            new_loss=[]\n",
    "            \n",
    "            #context vector for the current time-step\n",
    "            \n",
    "            dfrow=dftest.sample()\n",
    "            \n",
    "            #sum of exponential values of losses in the previous time-step for probabilty distribution\n",
    "            \n",
    "            sum_losses = np.sum([np.exp(s * lr) for s in losses[t-1]])\n",
    "            \n",
    "            #calulating the probability distribution for the current time-step\n",
    "            \n",
    "            for i in range(4):\n",
    "                cur_distribution.append(np.exp(lr * losses[t-1][i]) / sum_losses)\n",
    "            arm_probs = [(arm, cur_distribution[arm]) for arm in range(4)]\n",
    "            \n",
    "            #calling the choose_arm method to select the expert for the current time-step\n",
    "            \n",
    "            chosen_arm = self.choose_arm(arm_probs)\n",
    "            \n",
    "            #using get loss method to check the prediction for the context vector\n",
    "            \n",
    "            cur_loss,y_pred = self.get_loss(model_list,chosen_arm,dfrow.iloc[:,:-1],dfrow.iloc[:,-1].values[0])\n",
    "            \n",
    "            pred.append(y_pred)\n",
    "            act.append(dfrow.iloc[:,-1].values[0])\n",
    "            \n",
    "            #creating the loss vector for the current time-step\n",
    "            \n",
    "            loss_vec= [0 if i!=chosen_arm else cur_loss for i in range(4)]\n",
    "            \n",
    "            #calculating the psuedo loss for the current time-step\n",
    "            for i in range(4):\n",
    "                new_loss.append(losses[t-1][i]+(loss_vec[i]/cur_distribution[i]))\n",
    "            losses.append(new_loss)\n",
    "            todf.append(cur_loss)\n",
    "        \n",
    "        #calulating the f1-score\n",
    "        print(\"The f1-score is :\",f1_score(pred,act))\n",
    "        \n",
    "        #return the list of losses to plot regret\n",
    "        return todf\n",
    "    \n",
    "    #helper function for Exp3 to choose the expert for the given time-step\n",
    "    def choose_arm(self,prob_value_list):\n",
    "        arms = [tup[0] for tup in prob_value_list]\n",
    "        probs = [float(tup[1]) for tup in prob_value_list]\n",
    "        return random.choices(arms,weights=probs)[0]\n",
    "    \n",
    "    #helper function to check the loss against the actual y-label\n",
    "    def get_loss(self,model_list,chosen_arm,X_test,y_test):\n",
    "        y_pred = model_list[chosen_arm].predict(X_test)\n",
    "        if y_pred==y_test:\n",
    "            return 0,y_pred\n",
    "        else:\n",
    "            return 1,y_pred \n",
    "        \n",
    "    #Exp4 Algorithm    \n",
    "    def exp4_base(self,trial,X_test,y_test,model_list):\n",
    "        \n",
    "        #learning rate\n",
    "        lr = -(np.sqrt(np.log(2) / (trial* 2)))\n",
    "        \n",
    "        #intial value for q vector that maintains the strength of experts\n",
    "        q=[[1/4,1/4,1/4,1/4]]\n",
    "        y_test=pd.DataFrame(y_test)\n",
    "        y_test.set_index(X_test.index,inplace=True)\n",
    "        dftest=pd.concat([df_test, y_test], axis=1)  \n",
    "        todf=[]\n",
    "        pred=[]\n",
    "        act=[]\n",
    "        \n",
    "        for t in range(100000):\n",
    "            psuedo_loss=[]\n",
    "            newq=[]\n",
    "            \n",
    "            #getting the context vector for the current round\n",
    "            dfrow=dftest.sample()\n",
    "            \n",
    "            #calling helper function to get expert advice\n",
    "            \n",
    "            exp_pred=self.exppred(model_list,dfrow.iloc[:,:-1])\n",
    "            \n",
    "            #Calculating the probability distribution for the time-step\n",
    "            cur_distribution = np.dot(q[t],exp_pred)\n",
    "            \n",
    "            #calling function to find the loss against the true label value\n",
    "            \n",
    "            loss_vec,lpred= self.cur_loss(cur_distribution,dfrow.iloc[:,-1].values[0])\n",
    "            \n",
    "            #appending the loss values to a list to plot regret\n",
    "            todf.append(loss_vec[0])\n",
    "            act.append(dfrow.iloc[:,-1].values[0])\n",
    "            pred.append(lpred)\n",
    "            \n",
    "            #Calculating the psuedo-loss\n",
    "            for i in range(2):\n",
    "                psuedo_loss.append(loss_vec[i]/cur_distribution[i])\n",
    "            psuedo_loss=np.array(psuedo_loss)\n",
    "            \n",
    "            #Calculating the loss value with respect to each expert\n",
    "            loss_cap=np.dot(exp_pred,psuedo_loss)\n",
    "            \n",
    "            sum_losses=np.sum([np.exp(s * lr) for s in loss_cap])\n",
    "            \n",
    "            #calculating the strength of experts for the next round\n",
    "            for i in range(4):\n",
    "                newq.append((np.exp(lr * loss_cap[i])*q[t][i])/(sum_losses*q[t][i]))\n",
    "            q.append(newq)\n",
    "        print(\"The f1-score is :\",f1_score(act,pred))\n",
    "        return todf\n",
    "\n",
    "    #helper function to generate expert advice\n",
    "    def exppred(self,model_list,X_test):\n",
    "        newl=[]\n",
    "        for x in range(4):\n",
    "            sig=mlist[x].decision_function(X_test)\n",
    "            newl.append([1-expit(sig)[0],expit(sig)[0]])\n",
    "        newl=np.array(newl)\n",
    "        return newl\n",
    "\n",
    "    #helper function to check the loss\n",
    "    def cur_loss(self,distb,y_test):\n",
    "        label=[-1,1]\n",
    "        prob=[distb[0],distb[1]]\n",
    "        pred=random.choices(label,weights=prob)[0]\n",
    "        if y_test==pred:\n",
    "            return [0,1],pred\n",
    "        else:\n",
    "            return [1,0],pred\n",
    "        \n",
    "    #Batched Exp4    \n",
    "    def exp4_batched(self,epoch,trial,X_test,y_test,model_list):\n",
    "        lr = -(np.sqrt(np.log(2) / (trial* 2)))\n",
    "        q=[[1/4,1/4,1/4,1/4]]\n",
    "        y_test=pd.DataFrame(y_test)\n",
    "        y_test.set_index(X_test.index,inplace=True)\n",
    "        dftest=pd.concat([df_test, y_test], axis=1)  \n",
    "        todf=[]\n",
    "        epochsuml=[]\n",
    "        j=1\n",
    "        while j<=(1000/epoch):\n",
    "            lo=0\n",
    "            for t in range(1000):\n",
    "                psuedo_loss=[]\n",
    "                newq=[]\n",
    "                dfrow=dftest.sample()\n",
    "                exp_pred=self.exppred(model_list,dfrow.iloc[:,:-1])\n",
    "                cur_distribution = np.dot(q[t],exp_pred)\n",
    "                loss_vec,nl,_= self.cur_loss(cur_distribution,dfrow.iloc[:,-1].values[0])\n",
    "                lo=lo+nl\n",
    "                for i in range(2):\n",
    "                    psuedo_loss.append(loss_vec[i]/cur_distribution[i])\n",
    "                psuedo_loss=np.array(psuedo_loss)\n",
    "                loss_cap=np.dot(exp_pred,psuedo_loss)\n",
    "                sum_losses=np.sum([np.exp(s * lr) for s in loss_cap])\n",
    "                for i in range(4):\n",
    "                    newq.append((np.exp(lr * loss_cap[i])*q[t][i])/(sum_losses*q[t][i]))\n",
    "                q.append(newq)\n",
    "            print(\"the loss is :\",lo)\n",
    "            epochsuml.append(lo)\n",
    "            j=j+1\n",
    "        epochsuml=[x/1000 for x in epochsuml]\n",
    "        ro=int(1000/epoch)\n",
    "        self.plot_regret_chart(epochsuml,ro)\n",
    "    \n",
    "    #helper function to plot regret\n",
    "    def plot_regret_chart(self,loss,rounds,label):\n",
    "        regret_loss=[]\n",
    "        cumal_loss=np.cumsum(loss)\n",
    "        for i in range(1,rounds):\n",
    "            regret_loss.append(cumal_loss[i-1]/i)\n",
    "        plt.plot(range(1,rounds),regret_loss,label=label)\n",
    "        \n",
    "    #Random Action Algorithm that picks experts randomly in every time-step    \n",
    "    def random_action(self,X_test,y_test,model_list):\n",
    "        lossl=[]\n",
    "        y_test=pd.DataFrame(y_test)\n",
    "        y_test.set_index(X_test.index,inplace=True)\n",
    "        dftest=pd.concat([df_test, y_test], axis=1)  \n",
    "        for t in range(100000):\n",
    "            dfrow=dftest.sample()\n",
    "            selectarm=random.choices(range(0,4))[0]\n",
    "            ypred=model_list[selectarm].predict(dfrow.iloc[:,:-1])\n",
    "            if ypred==dfrow.iloc[:,-1].values[0]:\n",
    "                lossl.append(0)\n",
    "            else:\n",
    "                lossl.append(1)\n",
    "        return lossl\n",
    "        \n",
    "    #Epsilon Greedy Algorithm\n",
    "    def epsilon_greedy(self,epsilon,X_test,y_test,model_list):\n",
    "        lossl=[]\n",
    "        y_test=pd.DataFrame(y_test)\n",
    "        y_test.set_index(X_test.index,inplace=True)\n",
    "        dftest=pd.concat([df_test, y_test], axis=1)\n",
    "        qvalues=np.zeros(4)\n",
    "        lossval=np.zeros(4)\n",
    "        armpull=np.zeros(4)\n",
    "        lossl=[]\n",
    "        for t in range(100000):\n",
    "            dfrow=dftest.sample()\n",
    "            if np.random.random()<epsilon:\n",
    "                pred=random.choices(range(0,4))[0]\n",
    "            else:\n",
    "                pred=np.argmin(qvalues)\n",
    "            ypred=model_list[pred].predict(dfrow.iloc[:,:-1])\n",
    "            if ypred==dfrow.iloc[:,-1].values[0]:\n",
    "                curr_loss=0\n",
    "            else:\n",
    "                curr_loss=1\n",
    "            lossval[pred]=lossval[pred]+curr_loss\n",
    "            armpull[pred]=armpull[pred]+1\n",
    "            qvalues[pred]=lossval[pred]/lossval[pred]\n",
    "            lossl.append(curr_loss)\n",
    "        return lossl\n",
    "            \n",
    "        "
   ]
  },
  {
   "cell_type": "code",
   "execution_count": 7,
   "metadata": {},
   "outputs": [],
   "source": [
    "#checking for Credit Card Dataset\n",
    "sr=TrainAuto('creditcard.csv')"
   ]
  },
  {
   "cell_type": "code",
   "execution_count": 8,
   "metadata": {},
   "outputs": [],
   "source": [
    "df_train,df_test,df_val,y_test=sr.Traindata()"
   ]
  },
  {
   "cell_type": "code",
   "execution_count": 9,
   "metadata": {},
   "outputs": [],
   "source": [
    "mlist=sr.TuneData(df_val,df_train,df_test,y_test)"
   ]
  },
  {
   "cell_type": "code",
   "execution_count": 11,
   "metadata": {},
   "outputs": [
    {
     "name": "stdout",
     "output_type": "stream",
     "text": [
      "The f1-score is : 0.9942532206119163\n"
     ]
    }
   ],
   "source": [
    "gh=sr.exp3_base(df_test,y_test,mlist)\n",
    "jk=sr.random_action(df_test,y_test,mlist)"
   ]
  },
  {
   "cell_type": "code",
   "execution_count": 10,
   "metadata": {},
   "outputs": [
    {
     "name": "stdout",
     "output_type": "stream",
     "text": [
      "The f1-score is : 0.8546193231773541\n"
     ]
    }
   ],
   "source": [
    "fg=sr.exp4_base(200,df_test,y_test,mlist)"
   ]
  },
  {
   "cell_type": "code",
   "execution_count": 12,
   "metadata": {},
   "outputs": [
    {
     "name": "stdout",
     "output_type": "stream",
     "text": [
      "The f1-score is : 0.9330501510187091\n",
      "The f1-score is : 0.7108546875738926\n"
     ]
    }
   ],
   "source": [
    "#checking for wine quality dataset\n",
    "wq=TrainAuto('winequalityN.csv')\n",
    "df_train,df_test,df_val,y_test=wq.Traindata()\n",
    "mlist=wq.TuneData(df_val,df_train,df_test,y_test)\n",
    "wq_exp3=wq.exp3_base(df_test,y_test,mlist)\n",
    "wq_exp4=wq.exp4_base(2000,df_test,y_test,mlist)\n",
    "wq_random=wq.random_action(df_test,y_test,mlist)"
   ]
  },
  {
   "cell_type": "code",
   "execution_count": 29,
   "metadata": {},
   "outputs": [
    {
     "name": "stdout",
     "output_type": "stream",
     "text": [
      "The f1-score is : 0.8587252234745433\n",
      "The f1-score is : 0.7118089770503977\n"
     ]
    }
   ],
   "source": [
    "#Checking for Cardioctography dataset\n",
    "cg=TrainAuto('cardio.csv')\n",
    "df_train,df_test,df_val,y_test=cg.Traindata()\n",
    "mlist=cg.TuneData(df_val,df_train,df_test,y_test)\n",
    "cg_exp3=cg.exp3_base(df_test,y_test,mlist)\n",
    "cg_exp4=cg.exp4_base(2000,df_test,y_test,mlist)\n",
    "cg_random=cg.random_action(df_test,y_test,mlist)"
   ]
  },
  {
   "cell_type": "code",
   "execution_count": null,
   "metadata": {},
   "outputs": [],
   "source": [
    "#checking for Mammography dataset\n",
    "mg=TrainAuto('mammography.csv')\n",
    "df_train,df_test,df_val,y_test=mg.Traindata()\n",
    "mlist=mg.TuneData(df_val,df_train,df_test,y_test)\n",
    "mg_exp3=mg.exp3_base(df_test,y_test,mlist)\n",
    "mg_exp4=mg.exp4_base(2000,df_test,y_test,mlist)\n",
    "mg_random=mg.random_action(df_test,y_test,mlist)"
   ]
  },
  {
   "cell_type": "code",
   "execution_count": 30,
   "metadata": {},
   "outputs": [
    {
     "name": "stdout",
     "output_type": "stream",
     "text": [
      "The f1-score is : 0.9041185980873043\n",
      "The f1-score is : 0.7619898641377016\n"
     ]
    }
   ],
   "source": [
    "#Checking for vertebral disease dataset\n",
    "vd=TrainAuto('Vertebral.csv')\n",
    "df_train,df_test,df_val,y_test=vd.Traindata()\n",
    "mlist=vd.TuneData(df_val,df_train,df_test,y_test)\n",
    "vd_exp3=vd.exp3_base(df_test,y_test,mlist)\n",
    "vd_exp4=vd.exp4_base(2000,df_test,y_test,mlist)\n",
    "vd_random=vd.random_action(df_test,y_test,mlist)"
   ]
  },
  {
   "cell_type": "code",
   "execution_count": 13,
   "metadata": {},
   "outputs": [
    {
     "name": "stdout",
     "output_type": "stream",
     "text": [
      "Regret Chart for Credit Card Dataset using Exp3\n"
     ]
    },
    {
     "data": {
      "text/plain": [
       "<matplotlib.legend.Legend at 0x1c1bf5d3fd0>"
      ]
     },
     "execution_count": 13,
     "metadata": {},
     "output_type": "execute_result"
    },
    {
     "data": {
      "image/png": "[encoded data removed]",
      "text/plain": [
       "<Figure size 432x288 with 1 Axes>"
      ]
     },
     "metadata": {
      "needs_background": "light"
     },
     "output_type": "display_data"
    }
   ],
   "source": [
    "#Regret Chart for Credit card\n",
    "print('Regret Chart for Credit Card Dataset using Exp3')\n",
    "sr.plot_regret_chart(gh,100000,label='exp3')\n",
    "sr.plot_regret_chart(jk,100000,label='random agent')\n",
    "sr.plot_regret_chart(fg,100000,label='exp4')\n",
    "plt.legend()"
   ]
  },
  {
   "cell_type": "code",
   "execution_count": 24,
   "metadata": {},
   "outputs": [
    {
     "name": "stdout",
     "output_type": "stream",
     "text": [
      "Regret Chart for Credit Card Dataset using Random Agent\n"
     ]
    },
    {
     "data": {
      "image/png": "[encoded data removed]",
      "text/plain": [
       "<Figure size 432x288 with 1 Axes>"
      ]
     },
     "metadata": {
      "needs_background": "light"
     },
     "output_type": "display_data"
    }
   ],
   "source": [
    "print('Regret Chart for Credit Card Dataset using Random Agent')\n",
    "sr.plot_regret_chart(jk,100000)"
   ]
  },
  {
   "cell_type": "code",
   "execution_count": 25,
   "metadata": {},
   "outputs": [
    {
     "name": "stdout",
     "output_type": "stream",
     "text": [
      "Regret Chart for Credit Card Dataset using Exp4\n"
     ]
    },
    {
     "data": {
      "image/png": "[encoded data removed]",
      "text/plain": [
       "<Figure size 432x288 with 1 Axes>"
      ]
     },
     "metadata": {
      "needs_background": "light"
     },
     "output_type": "display_data"
    }
   ],
   "source": [
    "print('Regret Chart for Credit Card Dataset using Exp4')\n",
    "sr.plot_regret_chart(fg,100000)"
   ]
  },
  {
   "cell_type": "code",
   "execution_count": 26,
   "metadata": {},
   "outputs": [
    {
     "name": "stdout",
     "output_type": "stream",
     "text": [
      "Regret Chart for Wine Quality Dataset using Exp3\n"
     ]
    },
    {
     "data": {
      "image/png": "[encoded data removed]",
      "text/plain": [
       "<Figure size 432x288 with 1 Axes>"
      ]
     },
     "metadata": {
      "needs_background": "light"
     },
     "output_type": "display_data"
    }
   ],
   "source": [
    "print('Regret Chart for Wine Quality Dataset using Exp3')\n",
    "wq.plot_regret_chart(wq_exp3,100000)"
   ]
  },
  {
   "cell_type": "code",
   "execution_count": 27,
   "metadata": {},
   "outputs": [
    {
     "name": "stdout",
     "output_type": "stream",
     "text": [
      "Regret Chart for Wine Quality Dataset using Random Agent\n"
     ]
    },
    {
     "data": {
      "image/png": "[encoded data removed]",
      "text/plain": [
       "<Figure size 432x288 with 1 Axes>"
      ]
     },
     "metadata": {
      "needs_background": "light"
     },
     "output_type": "display_data"
    }
   ],
   "source": [
    "print('Regret Chart for Wine Quality Dataset using Random Agent')\n",
    "wq.plot_regret_chart(wq_random,100000)"
   ]
  },
  {
   "cell_type": "code",
   "execution_count": 28,
   "metadata": {},
   "outputs": [
    {
     "name": "stdout",
     "output_type": "stream",
     "text": [
      "Regret Chart for Wine Quality Dataset using Exp4\n"
     ]
    },
    {
     "data": {
      "image/png": "[encoded data removed]",
      "text/plain": [
       "<Figure size 432x288 with 1 Axes>"
      ]
     },
     "metadata": {
      "needs_background": "light"
     },
     "output_type": "display_data"
    }
   ],
   "source": [
    "print('Regret Chart for Wine Quality Dataset using Exp4')\n",
    "wq.plot_regret_chart(wq_exp4,100000)"
   ]
  },
  {
   "cell_type": "code",
   "execution_count": 31,
   "metadata": {},
   "outputs": [
    {
     "name": "stdout",
     "output_type": "stream",
     "text": [
      "Regret Chart for Cardioctology Dataset using Exp3\n"
     ]
    },
    {
     "data": {
      "image/png": "[encoded data removed]",
      "text/plain": [
       "<Figure size 432x288 with 1 Axes>"
      ]
     },
     "metadata": {
      "needs_background": "light"
     },
     "output_type": "display_data"
    }
   ],
   "source": [
    "print('Regret Chart for Cardioctology Dataset using Exp3')\n",
    "wq.plot_regret_chart(wq_exp3,100000)"
   ]
  },
  {
   "cell_type": "code",
   "execution_count": null,
   "metadata": {},
   "outputs": [],
   "source": []
  }
 ],
 "metadata": {
  "kernelspec": {
   "display_name": "Python 3",
   "language": "python",
   "name": "python3"
  },
  "language_info": {
   "codemirror_mode": {
    "name": "ipython",
    "version": 3
   },
   "file_extension": ".py",
   "mimetype": "text/x-python",
   "name": "python",
   "nbconvert_exporter": "python",
   "pygments_lexer": "ipython3",
   "version": "3.8.5"
  }
 },
 "nbformat": 4,
 "nbformat_minor": 4
}
